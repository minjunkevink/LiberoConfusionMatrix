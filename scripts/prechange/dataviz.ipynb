{
 "cells": [
  {
   "cell_type": "code",
   "execution_count": 7,
   "metadata": {},
   "outputs": [],
   "source": [
    "import numpy as np\n",
    "import h5py"
   ]
  },
  {
   "cell_type": "code",
   "execution_count": 15,
   "metadata": {},
   "outputs": [
    {
     "name": "stdout",
     "output_type": "stream",
     "text": [
      "Groups in the file:\n",
      " - demo_0\n",
      " - demo_1\n",
      " - demo_10\n",
      " - demo_11\n",
      " - demo_12\n",
      " - demo_13\n",
      " - demo_14\n",
      " - demo_15\n",
      " - demo_16\n",
      " - demo_17\n",
      " - demo_18\n",
      " - demo_19\n",
      " - demo_2\n",
      " - demo_20\n",
      " - demo_21\n",
      " - demo_22\n",
      " - demo_23\n",
      " - demo_24\n",
      " - demo_25\n",
      " - demo_26\n",
      " - demo_27\n",
      " - demo_28\n",
      " - demo_29\n",
      " - demo_3\n",
      " - demo_30\n",
      " - demo_31\n",
      " - demo_32\n",
      " - demo_33\n",
      " - demo_34\n",
      " - demo_35\n",
      " - demo_36\n",
      " - demo_37\n",
      " - demo_38\n",
      " - demo_39\n",
      " - demo_4\n",
      " - demo_40\n",
      " - demo_41\n",
      " - demo_42\n",
      " - demo_43\n",
      " - demo_44\n",
      " - demo_45\n",
      " - demo_46\n",
      " - demo_47\n",
      " - demo_48\n",
      " - demo_49\n",
      " - demo_5\n",
      " - demo_6\n",
      " - demo_7\n",
      " - demo_8\n",
      " - demo_9\n",
      "\n",
      "Datasets in group 'demo_0':\n",
      " - actions: shape (261, 7), dtype float32\n",
      " - lang_embeds: shape (261, 384), dtype float16\n",
      " - rendered_frames: shape (261, 84, 84, 3), dtype uint8\n",
      " - terminals: shape (261, 1), dtype uint8\n",
      "\n",
      "Sample Data:\n",
      "Actions: [[ 0.          0.         -0.          0.          0.         -0.\n",
      "  -1.        ]\n",
      " [ 0.          0.         -0.          0.          0.         -0.\n",
      "  -1.        ]\n",
      " [ 0.          0.         -0.          0.          0.         -0.\n",
      "  -1.        ]\n",
      " [ 0.          0.         -0.          0.          0.         -0.\n",
      "  -1.        ]\n",
      " [ 0.          0.00803571 -0.         -0.00107143  0.         -0.\n",
      "  -1.        ]]\n",
      "Terminals: [[0]\n",
      " [0]\n",
      " [0]\n",
      " [0]\n",
      " [0]]\n",
      "Rendered Frame Shape: (261, 84, 84, 3)\n",
      "Language Embeddings Shape: (261, 384)\n"
     ]
    }
   ],
   "source": [
    "import h5py\n",
    "import numpy as np\n",
    "\n",
    "# Path to a sample processed HDF5 file\n",
    "file_path = \"/scr/kimkj/LIBERO/libero/datasets/processed_libero_dataset_lowres/libero_10/processed_KITCHEN_SCENE4_put_the_black_bowl_in_the_bottom_drawer_of_the_cabinet_and_close_it_demo.hdf5\"\n",
    "\n",
    "# Open the HDF5 file in read mode\n",
    "with h5py.File(file_path, \"r\") as hdf:\n",
    "    # List all groups in the file\n",
    "    print(\"Groups in the file:\")\n",
    "    for group in hdf.keys():\n",
    "        print(f\" - {group}\")\n",
    "\n",
    "    # Explore datasets within the group\n",
    "    group_name = list(hdf.keys())[0]  # Select the first group (adjust as needed)\n",
    "    print(f\"\\nDatasets in group '{group_name}':\")\n",
    "    for dataset in hdf[group_name].keys():\n",
    "        print(f\" - {dataset}: shape {hdf[group_name][dataset].shape}, dtype {hdf[group_name][dataset].dtype}\")\n",
    "\n",
    "    # Load a specific dataset into a NumPy array\n",
    "    actions = np.array(hdf[group_name][\"actions\"])\n",
    "    rendered_frames = np.array(hdf[group_name][\"rendered_frames\"])\n",
    "    terminals = np.array(hdf[group_name][\"terminals\"])\n",
    "    lang_embeds = np.array(hdf[group_name][\"lang_embeds\"])\n",
    "\n",
    "    print(\"\\nSample Data:\")\n",
    "    print(f\"Actions: {actions[:5]}\")\n",
    "    print(f\"Terminals: {terminals[:5]}\")\n",
    "    print(f\"Rendered Frame Shape: {rendered_frames.shape}\")\n",
    "    print(f\"Language Embeddings Shape: {lang_embeds.shape}\")\n",
    "    "
   ]
  },
  {
   "cell_type": "code",
   "execution_count": 21,
   "metadata": {},
   "outputs": [
    {
     "data": {
      "image/png": "[encoded data removed]",
      "text/plain": [
       "<Figure size 640x480 with 1 Axes>"
      ]
     },
     "metadata": {},
     "output_type": "display_data"
    }
   ],
   "source": [
    "import matplotlib.pyplot as plt\n",
    "i = 1\n",
    "plt.imshow(rendered_frames[i])\n",
    "plt.axis(\"off\")\n",
    "plt.title(f\"Rendered Frame {i}\")\n",
    "plt.show()"
   ]
  },
  {
   "cell_type": "code",
   "execution_count": 22,
   "metadata": {},
   "outputs": [
    {
     "name": "stderr",
     "output_type": "stream",
     "text": [
      "/scr/kimkj/miniconda3/envs/libero/lib/python3.8/site-packages/tqdm/auto.py:21: TqdmWarning: IProgress not found. Please update jupyter and ipywidgets. See https://ipywidgets.readthedocs.io/en/stable/user_install.html\n",
      "  from .autonotebook import tqdm as notebook_tqdm\n"
     ]
    },
    {
     "ename": "ModuleNotFoundError",
     "evalue": "No module named 'r3m'",
     "output_type": "error",
     "traceback": [
      "\u001b[0;31m---------------------------------------------------------------------------\u001b[0m",
      "\u001b[0;31mModuleNotFoundError\u001b[0m                       Traceback (most recent call last)",
      "Cell \u001b[0;32mIn[22], line 8\u001b[0m\n\u001b[1;32m      5\u001b[0m \u001b[38;5;28;01mimport\u001b[39;00m \u001b[38;5;21;01mnumpy\u001b[39;00m \u001b[38;5;28;01mas\u001b[39;00m \u001b[38;5;21;01mnp\u001b[39;00m\n\u001b[1;32m      6\u001b[0m \u001b[38;5;28;01mfrom\u001b[39;00m \u001b[38;5;21;01mPIL\u001b[39;00m \u001b[38;5;28;01mimport\u001b[39;00m Image\n\u001b[0;32m----> 8\u001b[0m \u001b[38;5;28;01mfrom\u001b[39;00m \u001b[38;5;21;01mr3m\u001b[39;00m \u001b[38;5;28;01mimport\u001b[39;00m load_r3m\n",
      "\u001b[0;31mModuleNotFoundError\u001b[0m: No module named 'r3m'"
     ]
    }
   ],
   "source": [
    "import omegaconf\n",
    "import hydra\n",
    "import torch\n",
    "import torchvision.transforms as T\n",
    "import numpy as np\n",
    "from PIL import Image\n",
    "\n",
    "from r3m import load_r3m"
   ]
  },
  {
   "cell_type": "code",
   "execution_count": null,
   "metadata": {},
   "outputs": [],
   "source": []
  }
 ],
 "metadata": {
  "kernelspec": {
   "display_name": "base",
   "language": "python",
   "name": "python3"
  },
  "language_info": {
   "codemirror_mode": {
    "name": "ipython",
    "version": 3
   },
   "file_extension": ".py",
   "mimetype": "text/x-python",
   "name": "python",
   "nbconvert_exporter": "python",
   "pygments_lexer": "ipython3",
   "version": "3.12.4"
  }
 },
 "nbformat": 4,
 "nbformat_minor": 2
}
